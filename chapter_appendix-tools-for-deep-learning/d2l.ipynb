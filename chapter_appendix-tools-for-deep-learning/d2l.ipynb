{
 "cells": [
  {
   "cell_type": "markdown",
   "metadata": {
    "origin_pos": 0
   },
   "source": [
    "# `d2l` API 文档\n",
    ":label:`sec_d2l`\n",
    "\n",
    "`d2l`包以下成员的实现及其定义和解释部分可在[源文件](https://github.com/d2l-ai/d2l-en/tree/master/d2l)中找到。\n"
   ]
  },
  {
   "cell_type": "markdown",
   "metadata": {
    "origin_pos": 3,
    "tab": [
     "tensorflow"
    ]
   },
   "source": [
    "```eval_rst\n",
    ".. currentmodule:: d2l.torch\n",
    "```\n"
   ]
  },
  {
   "cell_type": "markdown",
   "metadata": {
    "origin_pos": 4
   },
   "source": [
    "## 模型\n",
    "\n",
    "```eval_rst \n",
    ".. autoclass:: Module\n",
    "   :members: \n",
    "\n",
    ".. autoclass:: LinearRegressionScratch\n",
    "   :members:\n",
    "\n",
    ".. autoclass:: LinearRegression\n",
    "   :members:    \n",
    "\n",
    ".. autoclass:: Classification\n",
    "   :members:\n",
    "```\n",
    "\n",
    "## 数据\n",
    "\n",
    "```eval_rst \n",
    ".. autoclass:: DataModule\n",
    "   :members: \n",
    "\n",
    ".. autoclass:: SyntheticRegressionData\n",
    "   :members: \n",
    "\n",
    ".. autoclass:: FashionMNIST\n",
    "   :members:\n",
    "```\n",
    "\n",
    "## 训练\n",
    "\n",
    "```eval_rst \n",
    ".. autoclass:: Trainer\n",
    "   :members: \n",
    "\n",
    ".. autoclass:: SGD\n",
    "   :members:\n",
    "```\n",
    "\n",
    "## 公用\n",
    "\n",
    "```eval_rst \n",
    ".. autofunction:: add_to_class\n",
    "\n",
    ".. autofunction:: cpu\n",
    "\n",
    ".. autofunction:: gpu\n",
    "\n",
    ".. autofunction:: num_gpus\n",
    "\n",
    ".. autoclass:: ProgressBoard\n",
    "   :members: \n",
    "\n",
    ".. autoclass:: HyperParameters\n",
    "   :members:\n",
    "```\n"
   ]
  }
 ],
 "metadata": {
  "kernelspec": {
   "display_name": "Python 3",
   "name": "python3"
  },
  "language_info": {
   "name": "python"
  }
 },
 "nbformat": 4,
 "nbformat_minor": 4
}