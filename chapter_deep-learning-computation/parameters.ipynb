{
 "cells": [
  {
   "cell_type": "markdown",
   "id": "56ce43d8",
   "metadata": {
    "origin_pos": 0
   },
   "source": [
    "# 参数管理\n",
    "\n",
    "在选择了架构并设置了超参数后，我们就进入了训练阶段。\n",
    "此时，我们的目标是找到使损失函数最小化的模型参数值。\n",
    "经过训练后，我们将需要使用这些参数来做出未来的预测。\n",
    "此外，有时我们希望提取参数，以便在其他环境中复用它们，\n",
    "将模型保存下来，以便它可以在其他软件中执行，\n",
    "或者为了获得科学的理解而进行检查。\n",
    "\n",
    "之前的介绍中，我们只依靠深度学习框架来完成训练的工作，\n",
    "而忽略了操作参数的具体细节。\n",
    "本节，我们将介绍以下内容：\n",
    "\n",
    "* 访问参数，用于调试、诊断和可视化；\n",
    "* 参数初始化；\n",
    "* 在不同模型组件间共享参数。\n",
    "\n",
    "(**我们首先看一下具有单隐藏层的多层感知机。**)\n"
   ]
  },
  {
   "cell_type": "code",
   "execution_count": 1,
   "id": "725ed6e5",
   "metadata": {
    "execution": {
     "iopub.execute_input": "2023-08-18T07:36:16.665745Z",
     "iopub.status.busy": "2023-08-18T07:36:16.665109Z",
     "iopub.status.idle": "2023-08-18T07:36:21.019838Z",
     "shell.execute_reply": "2023-08-18T07:36:21.018962Z"
    },
    "origin_pos": 3,
    "tab": [
     "tensorflow"
    ]
   },
   "outputs": [
    {
     "data": {
      "text/plain": [
       "<tf.Tensor: shape=(2, 1), dtype=float32, numpy=\n",
       "array([[-0.44218335],\n",
       "       [ 0.57875514]], dtype=float32)>"
      ]
     },
     "execution_count": 1,
     "metadata": {},
     "output_type": "execute_result"
    }
   ],
   "source": [
    "import tensorflow as tf\n",
    "\n",
    "net = tf.keras.models.Sequential([\n",
    "    tf.keras.layers.Flatten(),\n",
    "    tf.keras.layers.Dense(4, activation=tf.nn.relu),\n",
    "    tf.keras.layers.Dense(1),\n",
    "])\n",
    "\n",
    "X = tf.random.uniform((2, 4))\n",
    "net(X)"
   ]
  },
  {
   "cell_type": "markdown",
   "id": "b173cc9d",
   "metadata": {
    "origin_pos": 5
   },
   "source": [
    "## [**参数访问**]\n",
    "\n",
    "我们从已有模型中访问参数。\n",
    "当通过`Sequential`类定义模型时，\n",
    "我们可以通过索引来访问模型的任意层。\n",
    "这就像模型是一个列表一样，每层的参数都在其属性中。\n",
    "如下所示，我们可以检查第二个全连接层的参数。\n"
   ]
  },
  {
   "cell_type": "code",
   "execution_count": 2,
   "id": "7cfeaf60",
   "metadata": {
    "execution": {
     "iopub.execute_input": "2023-08-18T07:36:21.023924Z",
     "iopub.status.busy": "2023-08-18T07:36:21.023307Z",
     "iopub.status.idle": "2023-08-18T07:36:21.029698Z",
     "shell.execute_reply": "2023-08-18T07:36:21.028712Z"
    },
    "origin_pos": 8,
    "tab": [
     "tensorflow"
    ]
   },
   "outputs": [
    {
     "name": "stdout",
     "output_type": "stream",
     "text": [
      "[<tf.Variable 'dense_1/kernel:0' shape=(4, 1) dtype=float32, numpy=\n",
      "array([[-1.0469127 ],\n",
      "       [ 0.31355536],\n",
      "       [ 0.5405549 ],\n",
      "       [ 0.7610214 ]], dtype=float32)>, <tf.Variable 'dense_1/bias:0' shape=(1,) dtype=float32, numpy=array([0.], dtype=float32)>]\n"
     ]
    }
   ],
   "source": [
    "print(net.layers[2].weights)"
   ]
  },
  {
   "cell_type": "markdown",
   "id": "73297ede",
   "metadata": {
    "origin_pos": 9
   },
   "source": [
    "输出的结果告诉我们一些重要的事情：\n",
    "首先，这个全连接层包含两个参数，分别是该层的权重和偏置。\n",
    "两者都存储为单精度浮点数（float32）。\n",
    "注意，参数名称允许唯一标识每个参数，即使在包含数百个层的网络中也是如此。\n",
    "\n",
    "### [**目标参数**]\n",
    "\n",
    "注意，每个参数都表示为参数类的一个实例。\n",
    "要对参数执行任何操作，首先我们需要访问底层的数值。\n",
    "有几种方法可以做到这一点。有些比较简单，而另一些则比较通用。\n",
    "下面的代码从第二个全连接层（即第三个神经网络层）提取偏置，\n",
    "提取后返回的是一个参数类实例，并进一步访问该参数的值。\n"
   ]
  },
  {
   "cell_type": "code",
   "execution_count": 3,
   "id": "7fe18386",
   "metadata": {
    "execution": {
     "iopub.execute_input": "2023-08-18T07:36:21.033475Z",
     "iopub.status.busy": "2023-08-18T07:36:21.032926Z",
     "iopub.status.idle": "2023-08-18T07:36:21.038614Z",
     "shell.execute_reply": "2023-08-18T07:36:21.037791Z"
    },
    "origin_pos": 12,
    "tab": [
     "tensorflow"
    ]
   },
   "outputs": [
    {
     "name": "stdout",
     "output_type": "stream",
     "text": [
      "<class 'tensorflow.python.ops.resource_variable_ops.ResourceVariable'>\n",
      "<tf.Variable 'dense_1/bias:0' shape=(1,) dtype=float32, numpy=array([0.], dtype=float32)>\n",
      "tf.Tensor([0.], shape=(1,), dtype=float32)\n"
     ]
    }
   ],
   "source": [
    "print(type(net.layers[2].weights[1]))\n",
    "print(net.layers[2].weights[1])\n",
    "print(tf.convert_to_tensor(net.layers[2].weights[1]))"
   ]
  },
  {
   "cell_type": "markdown",
   "id": "06120866",
   "metadata": {
    "origin_pos": 17
   },
   "source": [
    "### [**一次性访问所有参数**]\n",
    "\n",
    "当我们需要对所有参数执行操作时，逐个访问它们可能会很麻烦。\n",
    "当我们处理更复杂的块（例如，嵌套块）时，情况可能会变得特别复杂，\n",
    "因为我们需要递归整个树来提取每个子块的参数。\n",
    "下面，我们将通过演示来比较访问第一个全连接层的参数和访问所有层。\n"
   ]
  },
  {
   "cell_type": "code",
   "execution_count": 4,
   "id": "6774a184",
   "metadata": {
    "execution": {
     "iopub.execute_input": "2023-08-18T07:36:21.042191Z",
     "iopub.status.busy": "2023-08-18T07:36:21.041671Z",
     "iopub.status.idle": "2023-08-18T07:36:21.048477Z",
     "shell.execute_reply": "2023-08-18T07:36:21.047669Z"
    },
    "origin_pos": 20,
    "tab": [
     "tensorflow"
    ]
   },
   "outputs": [
    {
     "name": "stdout",
     "output_type": "stream",
     "text": [
      "[<tf.Variable 'dense/kernel:0' shape=(4, 4) dtype=float32, numpy=\n",
      "array([[ 0.07396382, -0.6543436 , -0.7244056 , -0.6157465 ],\n",
      "       [ 0.40404958,  0.7228444 ,  0.4572547 ,  0.7116396 ],\n",
      "       [ 0.5283937 ,  0.25636894, -0.49113625,  0.6337872 ],\n",
      "       [ 0.5183577 ,  0.19943613,  0.5296057 ,  0.6009421 ]],\n",
      "      dtype=float32)>, <tf.Variable 'dense/bias:0' shape=(4,) dtype=float32, numpy=array([0., 0., 0., 0.], dtype=float32)>]\n",
      "[array([[ 0.07396382, -0.6543436 , -0.7244056 , -0.6157465 ],\n",
      "       [ 0.40404958,  0.7228444 ,  0.4572547 ,  0.7116396 ],\n",
      "       [ 0.5283937 ,  0.25636894, -0.49113625,  0.6337872 ],\n",
      "       [ 0.5183577 ,  0.19943613,  0.5296057 ,  0.6009421 ]],\n",
      "      dtype=float32), array([0., 0., 0., 0.], dtype=float32), array([[-1.0469127 ],\n",
      "       [ 0.31355536],\n",
      "       [ 0.5405549 ],\n",
      "       [ 0.7610214 ]], dtype=float32), array([0.], dtype=float32)]\n"
     ]
    }
   ],
   "source": [
    "print(net.layers[1].weights)\n",
    "print(net.get_weights())"
   ]
  },
  {
   "cell_type": "markdown",
   "id": "16b2c613",
   "metadata": {
    "origin_pos": 21
   },
   "source": [
    "这为我们提供了另一种访问网络参数的方式，如下所示。\n"
   ]
  },
  {
   "cell_type": "code",
   "execution_count": 5,
   "id": "6500682c",
   "metadata": {
    "execution": {
     "iopub.execute_input": "2023-08-18T07:36:21.052047Z",
     "iopub.status.busy": "2023-08-18T07:36:21.051384Z",
     "iopub.status.idle": "2023-08-18T07:36:21.057297Z",
     "shell.execute_reply": "2023-08-18T07:36:21.056532Z"
    },
    "origin_pos": 24,
    "tab": [
     "tensorflow"
    ]
   },
   "outputs": [
    {
     "data": {
      "text/plain": [
       "array([0., 0., 0., 0.], dtype=float32)"
      ]
     },
     "execution_count": 5,
     "metadata": {},
     "output_type": "execute_result"
    }
   ],
   "source": [
    "net.get_weights()[1]"
   ]
  },
  {
   "cell_type": "markdown",
   "id": "825b55e5",
   "metadata": {
    "origin_pos": 26
   },
   "source": [
    "### [**从嵌套块收集参数**]\n",
    "\n",
    "让我们看看，如果我们将多个块相互嵌套，参数命名约定是如何工作的。\n",
    "我们首先定义一个生成块的函数（可以说是“块工厂”），然后将这些块组合到更大的块中。\n"
   ]
  },
  {
   "cell_type": "code",
   "execution_count": 6,
   "id": "0e16e01e",
   "metadata": {
    "execution": {
     "iopub.execute_input": "2023-08-18T07:36:21.060875Z",
     "iopub.status.busy": "2023-08-18T07:36:21.060238Z",
     "iopub.status.idle": "2023-08-18T07:36:21.186903Z",
     "shell.execute_reply": "2023-08-18T07:36:21.186100Z"
    },
    "origin_pos": 29,
    "tab": [
     "tensorflow"
    ]
   },
   "outputs": [
    {
     "data": {
      "text/plain": [
       "<tf.Tensor: shape=(2, 1), dtype=float32, numpy=\n",
       "array([[0.04106742],\n",
       "       [0.08519742]], dtype=float32)>"
      ]
     },
     "execution_count": 6,
     "metadata": {},
     "output_type": "execute_result"
    }
   ],
   "source": [
    "def block1(name):\n",
    "    return tf.keras.Sequential([\n",
    "        tf.keras.layers.Flatten(),\n",
    "        tf.keras.layers.Dense(4, activation=tf.nn.relu)],\n",
    "        name=name)\n",
    "\n",
    "def block2():\n",
    "    net = tf.keras.Sequential()\n",
    "    for i in range(4):\n",
    "        # 在这里嵌套\n",
    "        net.add(block1(name=f'block-{i}'))\n",
    "    return net\n",
    "\n",
    "rgnet = tf.keras.Sequential()\n",
    "rgnet.add(block2())\n",
    "rgnet.add(tf.keras.layers.Dense(1))\n",
    "rgnet(X)"
   ]
  },
  {
   "cell_type": "markdown",
   "id": "ea15b3a6",
   "metadata": {
    "origin_pos": 31
   },
   "source": [
    "[**设计了网络后，我们看看它是如何工作的。**]\n"
   ]
  },
  {
   "cell_type": "code",
   "execution_count": 7,
   "id": "7b7d65e8",
   "metadata": {
    "execution": {
     "iopub.execute_input": "2023-08-18T07:36:21.190690Z",
     "iopub.status.busy": "2023-08-18T07:36:21.190156Z",
     "iopub.status.idle": "2023-08-18T07:36:21.203972Z",
     "shell.execute_reply": "2023-08-18T07:36:21.203175Z"
    },
    "origin_pos": 34,
    "tab": [
     "tensorflow"
    ]
   },
   "outputs": [
    {
     "name": "stdout",
     "output_type": "stream",
     "text": [
      "Model: \"sequential_1\"\n"
     ]
    },
    {
     "name": "stdout",
     "output_type": "stream",
     "text": [
      "_________________________________________________________________\n"
     ]
    },
    {
     "name": "stdout",
     "output_type": "stream",
     "text": [
      " Layer (type)                Output Shape              Param #   \n"
     ]
    },
    {
     "name": "stdout",
     "output_type": "stream",
     "text": [
      "=================================================================\n"
     ]
    },
    {
     "name": "stdout",
     "output_type": "stream",
     "text": [
      " sequential_2 (Sequential)   (2, 4)                    80        \n"
     ]
    },
    {
     "name": "stdout",
     "output_type": "stream",
     "text": [
      "                                                                 \n"
     ]
    },
    {
     "name": "stdout",
     "output_type": "stream",
     "text": [
      " dense_6 (Dense)             (2, 1)                    5         \n"
     ]
    },
    {
     "name": "stdout",
     "output_type": "stream",
     "text": [
      "                                                                 \n"
     ]
    },
    {
     "name": "stdout",
     "output_type": "stream",
     "text": [
      "=================================================================\n"
     ]
    },
    {
     "name": "stdout",
     "output_type": "stream",
     "text": [
      "Total params: 85\n"
     ]
    },
    {
     "name": "stdout",
     "output_type": "stream",
     "text": [
      "Trainable params: 85\n"
     ]
    },
    {
     "name": "stdout",
     "output_type": "stream",
     "text": [
      "Non-trainable params: 0\n"
     ]
    },
    {
     "name": "stdout",
     "output_type": "stream",
     "text": [
      "_________________________________________________________________\n"
     ]
    },
    {
     "name": "stdout",
     "output_type": "stream",
     "text": [
      "None\n"
     ]
    }
   ],
   "source": [
    "print(rgnet.summary())"
   ]
  },
  {
   "cell_type": "markdown",
   "id": "1557f4da",
   "metadata": {
    "origin_pos": 35
   },
   "source": [
    "因为层是分层嵌套的，所以我们也可以像通过嵌套列表索引一样访问它们。\n",
    "下面，我们访问第一个主要的块中、第二个子块的第一层的偏置项。\n"
   ]
  },
  {
   "cell_type": "code",
   "execution_count": 8,
   "id": "a20e8614",
   "metadata": {
    "execution": {
     "iopub.execute_input": "2023-08-18T07:36:21.207721Z",
     "iopub.status.busy": "2023-08-18T07:36:21.207061Z",
     "iopub.status.idle": "2023-08-18T07:36:21.212887Z",
     "shell.execute_reply": "2023-08-18T07:36:21.212114Z"
    },
    "origin_pos": 38,
    "tab": [
     "tensorflow"
    ]
   },
   "outputs": [
    {
     "data": {
      "text/plain": [
       "<tf.Variable 'dense_3/bias:0' shape=(4,) dtype=float32, numpy=array([0., 0., 0., 0.], dtype=float32)>"
      ]
     },
     "execution_count": 8,
     "metadata": {},
     "output_type": "execute_result"
    }
   ],
   "source": [
    "rgnet.layers[0].layers[1].layers[1].weights[1]"
   ]
  },
  {
   "cell_type": "markdown",
   "id": "23a62c25",
   "metadata": {
    "origin_pos": 40
   },
   "source": [
    "## 参数初始化\n",
    "\n",
    "知道了如何访问参数后，现在我们看看如何正确地初始化参数。\n",
    "我们在 :numref:`sec_numerical_stability`中讨论了良好初始化的必要性。\n",
    "深度学习框架提供默认随机初始化，\n",
    "也允许我们创建自定义初始化方法，\n",
    "满足我们通过其他规则实现初始化权重。\n"
   ]
  },
  {
   "cell_type": "markdown",
   "id": "d8638a9b",
   "metadata": {
    "origin_pos": 43,
    "tab": [
     "tensorflow"
    ]
   },
   "source": [
    "默认情况下，Keras会根据一个范围均匀地初始化权重矩阵，\n",
    "这个范围是根据输入和输出维度计算出的。\n",
    "偏置参数设置为0。\n",
    "TensorFlow在根模块和`keras.initializers`模块中提供了各种初始化方法。\n"
   ]
  },
  {
   "cell_type": "markdown",
   "id": "0e34ae6a",
   "metadata": {
    "origin_pos": 45
   },
   "source": [
    "### [**内置初始化**]\n",
    "\n",
    "让我们首先调用内置的初始化器。\n",
    "下面的代码将所有权重参数初始化为标准差为0.01的高斯随机变量，\n",
    "且将偏置参数设置为0。\n"
   ]
  },
  {
   "cell_type": "code",
   "execution_count": 9,
   "id": "9b587899",
   "metadata": {
    "execution": {
     "iopub.execute_input": "2023-08-18T07:36:21.216702Z",
     "iopub.status.busy": "2023-08-18T07:36:21.216075Z",
     "iopub.status.idle": "2023-08-18T07:36:21.246578Z",
     "shell.execute_reply": "2023-08-18T07:36:21.245795Z"
    },
    "origin_pos": 48,
    "tab": [
     "tensorflow"
    ]
   },
   "outputs": [
    {
     "data": {
      "text/plain": [
       "(<tf.Variable 'dense_7/kernel:0' shape=(4, 4) dtype=float32, numpy=\n",
       " array([[-0.0038965 ,  0.00505942,  0.02313872,  0.01330682],\n",
       "        [-0.00415377, -0.00385469,  0.01013125, -0.00638383],\n",
       "        [-0.00714976,  0.00160496,  0.01625365,  0.00301881],\n",
       "        [-0.01674125, -0.04097489,  0.0116432 ,  0.01404491]],\n",
       "       dtype=float32)>,\n",
       " <tf.Variable 'dense_7/bias:0' shape=(4,) dtype=float32, numpy=array([0., 0., 0., 0.], dtype=float32)>)"
      ]
     },
     "execution_count": 9,
     "metadata": {},
     "output_type": "execute_result"
    }
   ],
   "source": [
    "net = tf.keras.models.Sequential([\n",
    "    tf.keras.layers.Flatten(),\n",
    "    tf.keras.layers.Dense(\n",
    "        4, activation=tf.nn.relu,\n",
    "        kernel_initializer=tf.random_normal_initializer(mean=0, stddev=0.01),\n",
    "        bias_initializer=tf.zeros_initializer()),\n",
    "    tf.keras.layers.Dense(1)])\n",
    "\n",
    "net(X)\n",
    "net.weights[0], net.weights[1]"
   ]
  },
  {
   "cell_type": "markdown",
   "id": "0625b137",
   "metadata": {
    "origin_pos": 50
   },
   "source": [
    "我们还可以将所有参数初始化为给定的常数，比如初始化为1。\n"
   ]
  },
  {
   "cell_type": "code",
   "execution_count": 10,
   "id": "8d0df202",
   "metadata": {
    "execution": {
     "iopub.execute_input": "2023-08-18T07:36:21.250255Z",
     "iopub.status.busy": "2023-08-18T07:36:21.249645Z",
     "iopub.status.idle": "2023-08-18T07:36:21.279834Z",
     "shell.execute_reply": "2023-08-18T07:36:21.278997Z"
    },
    "origin_pos": 53,
    "tab": [
     "tensorflow"
    ]
   },
   "outputs": [
    {
     "data": {
      "text/plain": [
       "(<tf.Variable 'dense_9/kernel:0' shape=(4, 4) dtype=float32, numpy=\n",
       " array([[1., 1., 1., 1.],\n",
       "        [1., 1., 1., 1.],\n",
       "        [1., 1., 1., 1.],\n",
       "        [1., 1., 1., 1.]], dtype=float32)>,\n",
       " <tf.Variable 'dense_9/bias:0' shape=(4,) dtype=float32, numpy=array([0., 0., 0., 0.], dtype=float32)>)"
      ]
     },
     "execution_count": 10,
     "metadata": {},
     "output_type": "execute_result"
    }
   ],
   "source": [
    "net = tf.keras.models.Sequential([\n",
    "    tf.keras.layers.Flatten(),\n",
    "    tf.keras.layers.Dense(\n",
    "        4, activation=tf.nn.relu,\n",
    "        kernel_initializer=tf.keras.initializers.Constant(1),\n",
    "        bias_initializer=tf.zeros_initializer()),\n",
    "    tf.keras.layers.Dense(1),\n",
    "])\n",
    "\n",
    "net(X)\n",
    "net.weights[0], net.weights[1]"
   ]
  },
  {
   "cell_type": "markdown",
   "id": "b4eacd97",
   "metadata": {
    "origin_pos": 55
   },
   "source": [
    "我们还可以[**对某些块应用不同的初始化方法**]。\n",
    "例如，下面我们使用Xavier初始化方法初始化第一个神经网络层，\n",
    "然后将第三个神经网络层初始化为常量值42。\n"
   ]
  },
  {
   "cell_type": "code",
   "execution_count": 11,
   "id": "c8f9a2ed",
   "metadata": {
    "execution": {
     "iopub.execute_input": "2023-08-18T07:36:21.283388Z",
     "iopub.status.busy": "2023-08-18T07:36:21.282749Z",
     "iopub.status.idle": "2023-08-18T07:36:21.310268Z",
     "shell.execute_reply": "2023-08-18T07:36:21.309470Z"
    },
    "origin_pos": 58,
    "tab": [
     "tensorflow"
    ]
   },
   "outputs": [
    {
     "name": "stdout",
     "output_type": "stream",
     "text": [
      "<tf.Variable 'dense_11/kernel:0' shape=(4, 4) dtype=float32, numpy=\n",
      "array([[ 0.46413535, -0.41529804, -0.7629936 ,  0.6337715 ],\n",
      "       [-0.03254855, -0.7786831 ,  0.5948091 , -0.34829807],\n",
      "       [ 0.8473349 ,  0.54338247, -0.27631932,  0.76972014],\n",
      "       [ 0.3425359 ,  0.84501284, -0.62855405, -0.02751094]],\n",
      "      dtype=float32)>\n",
      "<tf.Variable 'dense_12/kernel:0' shape=(4, 1) dtype=float32, numpy=\n",
      "array([[1.],\n",
      "       [1.],\n",
      "       [1.],\n",
      "       [1.]], dtype=float32)>\n"
     ]
    }
   ],
   "source": [
    "net = tf.keras.models.Sequential([\n",
    "    tf.keras.layers.Flatten(),\n",
    "    tf.keras.layers.Dense(\n",
    "        4,\n",
    "        activation=tf.nn.relu,\n",
    "        kernel_initializer=tf.keras.initializers.GlorotUniform()),\n",
    "    tf.keras.layers.Dense(\n",
    "        1, kernel_initializer=tf.keras.initializers.Constant(1)),\n",
    "])\n",
    "\n",
    "net(X)\n",
    "print(net.layers[1].weights[0])\n",
    "print(net.layers[2].weights[0])"
   ]
  },
  {
   "cell_type": "markdown",
   "id": "1a9de9ae",
   "metadata": {
    "origin_pos": 60
   },
   "source": [
    "### [**自定义初始化**]\n",
    "\n",
    "有时，深度学习框架没有提供我们需要的初始化方法。\n",
    "在下面的例子中，我们使用以下的分布为任意权重参数$w$定义初始化方法：\n",
    "\n",
    "$$\n",
    "\\begin{aligned}\n",
    "    w \\sim \\begin{cases}\n",
    "        U(5, 10) & \\text{ 可能性 } \\frac{1}{4} \\\\\n",
    "            0    & \\text{ 可能性 } \\frac{1}{2} \\\\\n",
    "        U(-10, -5) & \\text{ 可能性 } \\frac{1}{4}\n",
    "    \\end{cases}\n",
    "\\end{aligned}\n",
    "$$\n"
   ]
  },
  {
   "cell_type": "markdown",
   "id": "a0196ffc",
   "metadata": {
    "origin_pos": 63,
    "tab": [
     "tensorflow"
    ]
   },
   "source": [
    "在这里，我们定义了一个`Initializer`的子类，\n",
    "并实现了`__call__`函数。\n",
    "该函数返回给定形状和数据类型的所需张量。\n"
   ]
  },
  {
   "cell_type": "code",
   "execution_count": 12,
   "id": "23a77de4",
   "metadata": {
    "execution": {
     "iopub.execute_input": "2023-08-18T07:36:21.314055Z",
     "iopub.status.busy": "2023-08-18T07:36:21.313439Z",
     "iopub.status.idle": "2023-08-18T07:36:21.343009Z",
     "shell.execute_reply": "2023-08-18T07:36:21.342170Z"
    },
    "origin_pos": 67,
    "tab": [
     "tensorflow"
    ]
   },
   "outputs": [
    {
     "name": "stdout",
     "output_type": "stream",
     "text": [
      "<tf.Variable 'dense_13/kernel:0' shape=(4, 4) dtype=float32, numpy=\n",
      "array([[ 0.       , -0.       ,  0.       , -0.       ],\n",
      "       [-0.       ,  6.2459354, -0.       ,  0.       ],\n",
      "       [ 9.651949 , -0.       , -6.009481 , -0.       ],\n",
      "       [ 7.8956127, -6.5848374, -0.       , -8.0049305]], dtype=float32)>\n"
     ]
    }
   ],
   "source": [
    "class MyInit(tf.keras.initializers.Initializer):\n",
    "    def __call__(self, shape, dtype=None):\n",
    "        data=tf.random.uniform(shape, -10, 10, dtype=dtype)\n",
    "        factor=(tf.abs(data) >= 5)\n",
    "        factor=tf.cast(factor, tf.float32)\n",
    "        return data * factor\n",
    "\n",
    "net = tf.keras.models.Sequential([\n",
    "    tf.keras.layers.Flatten(),\n",
    "    tf.keras.layers.Dense(\n",
    "        4,\n",
    "        activation=tf.nn.relu,\n",
    "        kernel_initializer=MyInit()),\n",
    "    tf.keras.layers.Dense(1),\n",
    "])\n",
    "\n",
    "net(X)\n",
    "print(net.layers[1].weights[0])"
   ]
  },
  {
   "cell_type": "markdown",
   "id": "de336492",
   "metadata": {
    "origin_pos": 69
   },
   "source": [
    "注意，我们始终可以直接设置参数。\n"
   ]
  },
  {
   "cell_type": "code",
   "execution_count": 13,
   "id": "e63d1154",
   "metadata": {
    "execution": {
     "iopub.execute_input": "2023-08-18T07:36:21.346595Z",
     "iopub.status.busy": "2023-08-18T07:36:21.346075Z",
     "iopub.status.idle": "2023-08-18T07:36:21.354516Z",
     "shell.execute_reply": "2023-08-18T07:36:21.353734Z"
    },
    "origin_pos": 72,
    "tab": [
     "tensorflow"
    ]
   },
   "outputs": [
    {
     "data": {
      "text/plain": [
       "<tf.Variable 'dense_13/kernel:0' shape=(4, 4) dtype=float32, numpy=\n",
       "array([[42.       ,  1.       ,  1.       ,  1.       ],\n",
       "       [ 1.       ,  7.2459354,  1.       ,  1.       ],\n",
       "       [10.651949 ,  1.       , -5.009481 ,  1.       ],\n",
       "       [ 8.895613 , -5.5848374,  1.       , -7.0049305]], dtype=float32)>"
      ]
     },
     "execution_count": 13,
     "metadata": {},
     "output_type": "execute_result"
    }
   ],
   "source": [
    "net.layers[1].weights[0][:].assign(net.layers[1].weights[0] + 1)\n",
    "net.layers[1].weights[0][0, 0].assign(42)\n",
    "net.layers[1].weights[0]"
   ]
  },
  {
   "cell_type": "markdown",
   "id": "cbff0ce3",
   "metadata": {
    "origin_pos": 75
   },
   "source": [
    "## [**参数绑定**]\n",
    "\n",
    "有时我们希望在多个层间共享参数：\n",
    "我们可以定义一个稠密层，然后使用它的参数来设置另一个层的参数。\n"
   ]
  },
  {
   "cell_type": "code",
   "execution_count": 14,
   "id": "6d91d89b",
   "metadata": {
    "execution": {
     "iopub.execute_input": "2023-08-18T07:36:21.358278Z",
     "iopub.status.busy": "2023-08-18T07:36:21.357650Z",
     "iopub.status.idle": "2023-08-18T07:36:21.384109Z",
     "shell.execute_reply": "2023-08-18T07:36:21.383286Z"
    },
    "origin_pos": 78,
    "tab": [
     "tensorflow"
    ]
   },
   "outputs": [
    {
     "name": "stdout",
     "output_type": "stream",
     "text": [
      "True\n"
     ]
    }
   ],
   "source": [
    "# tf.keras的表现有点不同。它会自动删除重复层\n",
    "shared = tf.keras.layers.Dense(4, activation=tf.nn.relu)\n",
    "net = tf.keras.models.Sequential([\n",
    "    tf.keras.layers.Flatten(),\n",
    "    shared,\n",
    "    shared,\n",
    "    tf.keras.layers.Dense(1),\n",
    "])\n",
    "\n",
    "net(X)\n",
    "# 检查参数是否不同\n",
    "print(len(net.layers) == 3)"
   ]
  },
  {
   "cell_type": "markdown",
   "id": "3af92d35",
   "metadata": {
    "origin_pos": 82
   },
   "source": [
    "## 小结\n",
    "\n",
    "* 我们有几种方法可以访问、初始化和绑定模型参数。\n",
    "* 我们可以使用自定义初始化方法。\n",
    "\n",
    "## 练习\n",
    "\n",
    "1. 使用 :numref:`sec_model_construction` 中定义的`FancyMLP`模型，访问各个层的参数。\n",
    "1. 查看初始化模块文档以了解不同的初始化方法。\n",
    "1. 构建包含共享参数层的多层感知机并对其进行训练。在训练过程中，观察模型各层的参数和梯度。\n",
    "1. 为什么共享参数是个好主意？\n"
   ]
  },
  {
   "cell_type": "markdown",
   "id": "f6d37619",
   "metadata": {
    "origin_pos": 85,
    "tab": [
     "tensorflow"
    ]
   },
   "source": [
    "[Discussions](https://discuss.d2l.ai/t/1830)\n"
   ]
  }
 ],
 "metadata": {
  "kernelspec": {
   "display_name": "Python 3",
   "name": "python3"
  },
  "language_info": {
   "name": "python"
  },
  "required_libs": []
 },
 "nbformat": 4,
 "nbformat_minor": 5
}