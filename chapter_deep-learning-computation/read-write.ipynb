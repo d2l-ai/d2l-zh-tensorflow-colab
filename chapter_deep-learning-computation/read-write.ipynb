{
 "cells": [
  {
   "cell_type": "markdown",
   "id": "77672097",
   "metadata": {
    "origin_pos": 0
   },
   "source": [
    "# 读写文件\n",
    "\n",
    "到目前为止，我们讨论了如何处理数据，\n",
    "以及如何构建、训练和测试深度学习模型。\n",
    "然而，有时我们希望保存训练的模型，\n",
    "以备将来在各种环境中使用（比如在部署中进行预测）。\n",
    "此外，当运行一个耗时较长的训练过程时，\n",
    "最佳的做法是定期保存中间结果，\n",
    "以确保在服务器电源被不小心断掉时，我们不会损失几天的计算结果。\n",
    "因此，现在是时候学习如何加载和存储权重向量和整个模型了。\n",
    "\n",
    "## (**加载和保存张量**)\n",
    "\n",
    "对于单个张量，我们可以直接调用`load`和`save`函数分别读写它们。\n",
    "这两个函数都要求我们提供一个名称，`save`要求将要保存的变量作为输入。\n"
   ]
  },
  {
   "cell_type": "code",
   "execution_count": 1,
   "id": "69fac283",
   "metadata": {
    "execution": {
     "iopub.execute_input": "2023-08-18T07:38:36.133599Z",
     "iopub.status.busy": "2023-08-18T07:38:36.133029Z",
     "iopub.status.idle": "2023-08-18T07:38:41.444409Z",
     "shell.execute_reply": "2023-08-18T07:38:41.443383Z"
    },
    "origin_pos": 3,
    "tab": [
     "tensorflow"
    ]
   },
   "outputs": [],
   "source": [
    "import numpy as np\n",
    "import tensorflow as tf\n",
    "\n",
    "x = tf.range(4)\n",
    "np.save('x-file.npy', x)"
   ]
  },
  {
   "cell_type": "markdown",
   "id": "781e9c81",
   "metadata": {
    "origin_pos": 5
   },
   "source": [
    "我们现在可以将存储在文件中的数据读回内存。\n"
   ]
  },
  {
   "cell_type": "code",
   "execution_count": 2,
   "id": "27b3bcdc",
   "metadata": {
    "execution": {
     "iopub.execute_input": "2023-08-18T07:38:41.448996Z",
     "iopub.status.busy": "2023-08-18T07:38:41.448118Z",
     "iopub.status.idle": "2023-08-18T07:38:41.460061Z",
     "shell.execute_reply": "2023-08-18T07:38:41.459219Z"
    },
    "origin_pos": 8,
    "tab": [
     "tensorflow"
    ]
   },
   "outputs": [
    {
     "data": {
      "text/plain": [
       "array([0, 1, 2, 3], dtype=int32)"
      ]
     },
     "execution_count": 2,
     "metadata": {},
     "output_type": "execute_result"
    }
   ],
   "source": [
    "x2 = np.load('x-file.npy', allow_pickle=True)\n",
    "x2"
   ]
  },
  {
   "cell_type": "markdown",
   "id": "63f53cc0",
   "metadata": {
    "origin_pos": 10
   },
   "source": [
    "我们可以[**存储一个张量列表，然后把它们读回内存。**]\n"
   ]
  },
  {
   "cell_type": "code",
   "execution_count": 3,
   "id": "f103aa5d",
   "metadata": {
    "execution": {
     "iopub.execute_input": "2023-08-18T07:38:41.463707Z",
     "iopub.status.busy": "2023-08-18T07:38:41.463165Z",
     "iopub.status.idle": "2023-08-18T07:38:41.470469Z",
     "shell.execute_reply": "2023-08-18T07:38:41.469682Z"
    },
    "origin_pos": 13,
    "tab": [
     "tensorflow"
    ]
   },
   "outputs": [
    {
     "data": {
      "text/plain": [
       "(array([0., 1., 2., 3.]), array([0., 0., 0., 0.]))"
      ]
     },
     "execution_count": 3,
     "metadata": {},
     "output_type": "execute_result"
    }
   ],
   "source": [
    "y = tf.zeros(4)\n",
    "np.save('xy-files.npy', [x, y])\n",
    "x2, y2 = np.load('xy-files.npy', allow_pickle=True)\n",
    "(x2, y2)"
   ]
  },
  {
   "cell_type": "markdown",
   "id": "71a27e4b",
   "metadata": {
    "origin_pos": 15
   },
   "source": [
    "我们甚至可以(**写入或读取从字符串映射到张量的字典**)。\n",
    "当我们要读取或写入模型中的所有权重时，这很方便。\n"
   ]
  },
  {
   "cell_type": "code",
   "execution_count": 4,
   "id": "1444dd69",
   "metadata": {
    "execution": {
     "iopub.execute_input": "2023-08-18T07:38:41.474176Z",
     "iopub.status.busy": "2023-08-18T07:38:41.473542Z",
     "iopub.status.idle": "2023-08-18T07:38:41.480252Z",
     "shell.execute_reply": "2023-08-18T07:38:41.479498Z"
    },
    "origin_pos": 18,
    "tab": [
     "tensorflow"
    ]
   },
   "outputs": [
    {
     "data": {
      "text/plain": [
       "array({'x': <tf.Tensor: shape=(4,), dtype=int32, numpy=array([0, 1, 2, 3], dtype=int32)>, 'y': <tf.Tensor: shape=(4,), dtype=float32, numpy=array([0., 0., 0., 0.], dtype=float32)>},\n",
       "      dtype=object)"
      ]
     },
     "execution_count": 4,
     "metadata": {},
     "output_type": "execute_result"
    }
   ],
   "source": [
    "mydict = {'x': x, 'y': y}\n",
    "np.save('mydict.npy', mydict)\n",
    "mydict2 = np.load('mydict.npy', allow_pickle=True)\n",
    "mydict2"
   ]
  },
  {
   "cell_type": "markdown",
   "id": "9fd9cada",
   "metadata": {
    "origin_pos": 20
   },
   "source": [
    "## [**加载和保存模型参数**]\n",
    "\n",
    "保存单个权重向量（或其他张量）确实有用，\n",
    "但是如果我们想保存整个模型，并在以后加载它们，\n",
    "单独保存每个向量则会变得很麻烦。\n",
    "毕竟，我们可能有数百个参数散布在各处。\n",
    "因此，深度学习框架提供了内置函数来保存和加载整个网络。\n",
    "需要注意的一个重要细节是，这将保存模型的参数而不是保存整个模型。\n",
    "例如，如果我们有一个3层多层感知机，我们需要单独指定架构。\n",
    "因为模型本身可以包含任意代码，所以模型本身难以序列化。\n",
    "因此，为了恢复模型，我们需要用代码生成架构，\n",
    "然后从磁盘加载参数。\n",
    "让我们从熟悉的多层感知机开始尝试一下。\n"
   ]
  },
  {
   "cell_type": "code",
   "execution_count": 5,
   "id": "fef50064",
   "metadata": {
    "execution": {
     "iopub.execute_input": "2023-08-18T07:38:41.483840Z",
     "iopub.status.busy": "2023-08-18T07:38:41.483200Z",
     "iopub.status.idle": "2023-08-18T07:38:41.527917Z",
     "shell.execute_reply": "2023-08-18T07:38:41.527146Z"
    },
    "origin_pos": 23,
    "tab": [
     "tensorflow"
    ]
   },
   "outputs": [],
   "source": [
    "class MLP(tf.keras.Model):\n",
    "    def __init__(self):\n",
    "        super().__init__()\n",
    "        self.flatten = tf.keras.layers.Flatten()\n",
    "        self.hidden = tf.keras.layers.Dense(units=256, activation=tf.nn.relu)\n",
    "        self.out = tf.keras.layers.Dense(units=10)\n",
    "\n",
    "    def call(self, inputs):\n",
    "        x = self.flatten(inputs)\n",
    "        x = self.hidden(x)\n",
    "        return self.out(x)\n",
    "\n",
    "net = MLP()\n",
    "X = tf.random.uniform((2, 20))\n",
    "Y = net(X)"
   ]
  },
  {
   "cell_type": "markdown",
   "id": "3dfc39a6",
   "metadata": {
    "origin_pos": 25
   },
   "source": [
    "接下来，我们[**将模型的参数存储在一个叫做“mlp.params”的文件中。**]\n"
   ]
  },
  {
   "cell_type": "code",
   "execution_count": 6,
   "id": "49ae8009",
   "metadata": {
    "execution": {
     "iopub.execute_input": "2023-08-18T07:38:41.531523Z",
     "iopub.status.busy": "2023-08-18T07:38:41.530898Z",
     "iopub.status.idle": "2023-08-18T07:38:41.540816Z",
     "shell.execute_reply": "2023-08-18T07:38:41.540069Z"
    },
    "origin_pos": 28,
    "tab": [
     "tensorflow"
    ]
   },
   "outputs": [],
   "source": [
    "net.save_weights('mlp.params')"
   ]
  },
  {
   "cell_type": "markdown",
   "id": "706b7bb4",
   "metadata": {
    "origin_pos": 30
   },
   "source": [
    "为了恢复模型，我们[**实例化了原始多层感知机模型的一个备份。**]\n",
    "这里我们不需要随机初始化模型参数，而是(**直接读取文件中存储的参数。**)\n"
   ]
  },
  {
   "cell_type": "code",
   "execution_count": 7,
   "id": "2928e5ed",
   "metadata": {
    "execution": {
     "iopub.execute_input": "2023-08-18T07:38:41.544368Z",
     "iopub.status.busy": "2023-08-18T07:38:41.543752Z",
     "iopub.status.idle": "2023-08-18T07:38:41.553966Z",
     "shell.execute_reply": "2023-08-18T07:38:41.553233Z"
    },
    "origin_pos": 33,
    "tab": [
     "tensorflow"
    ]
   },
   "outputs": [
    {
     "data": {
      "text/plain": [
       "<tensorflow.python.training.tracking.util.CheckpointLoadStatus at 0x7fda848f2a30>"
      ]
     },
     "execution_count": 7,
     "metadata": {},
     "output_type": "execute_result"
    }
   ],
   "source": [
    "clone = MLP()\n",
    "clone.load_weights('mlp.params')"
   ]
  },
  {
   "cell_type": "markdown",
   "id": "195b9596",
   "metadata": {
    "origin_pos": 35
   },
   "source": [
    "由于两个实例具有相同的模型参数，在输入相同的`X`时，\n",
    "两个实例的计算结果应该相同。\n",
    "让我们来验证一下。\n"
   ]
  },
  {
   "cell_type": "code",
   "execution_count": 8,
   "id": "371d1a50",
   "metadata": {
    "execution": {
     "iopub.execute_input": "2023-08-18T07:38:41.557592Z",
     "iopub.status.busy": "2023-08-18T07:38:41.556984Z",
     "iopub.status.idle": "2023-08-18T07:38:41.568425Z",
     "shell.execute_reply": "2023-08-18T07:38:41.567613Z"
    },
    "origin_pos": 38,
    "tab": [
     "tensorflow"
    ]
   },
   "outputs": [
    {
     "data": {
      "text/plain": [
       "<tf.Tensor: shape=(2, 10), dtype=bool, numpy=\n",
       "array([[ True,  True,  True,  True,  True,  True,  True,  True,  True,\n",
       "         True],\n",
       "       [ True,  True,  True,  True,  True,  True,  True,  True,  True,\n",
       "         True]])>"
      ]
     },
     "execution_count": 8,
     "metadata": {},
     "output_type": "execute_result"
    }
   ],
   "source": [
    "Y_clone = clone(X)\n",
    "Y_clone == Y"
   ]
  },
  {
   "cell_type": "markdown",
   "id": "0b425754",
   "metadata": {
    "origin_pos": 39
   },
   "source": [
    "## 小结\n",
    "\n",
    "* `save`和`load`函数可用于张量对象的文件读写。\n",
    "* 我们可以通过参数字典保存和加载网络的全部参数。\n",
    "* 保存架构必须在代码中完成，而不是在参数中完成。\n",
    "\n",
    "## 练习\n",
    "\n",
    "1. 即使不需要将经过训练的模型部署到不同的设备上，存储模型参数还有什么实际的好处？\n",
    "1. 假设我们只想复用网络的一部分，以将其合并到不同的网络架构中。比如想在一个新的网络中使用之前网络的前两层，该怎么做？\n",
    "1. 如何同时保存网络架构和参数？需要对架构加上什么限制？\n"
   ]
  },
  {
   "cell_type": "markdown",
   "id": "13a8373e",
   "metadata": {
    "origin_pos": 42,
    "tab": [
     "tensorflow"
    ]
   },
   "source": [
    "[Discussions](https://discuss.d2l.ai/t/1838)\n"
   ]
  }
 ],
 "metadata": {
  "kernelspec": {
   "display_name": "Python 3",
   "name": "python3"
  },
  "language_info": {
   "name": "python"
  },
  "required_libs": []
 },
 "nbformat": 4,
 "nbformat_minor": 5
}