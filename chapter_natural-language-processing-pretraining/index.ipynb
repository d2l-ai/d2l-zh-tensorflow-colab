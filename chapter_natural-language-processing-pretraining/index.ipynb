{
 "cells": [
  {
   "cell_type": "markdown",
   "metadata": {
    "origin_pos": 0
   },
   "source": [
    "# 自然语言处理：预训\n",
    ":label:`chap_nlp_pretrain`\n",
    "\n",
    "人类需要沟通。出于对人类状况的这种基本需求，每天都会产生大量书面文本。鉴于社交媒体、聊天应用程序、电子邮件、产品评论、新闻文章、研究论文和书籍中的丰富文本，使计算机能够理解它们以人类语言为基础提供帮助或做出决策变得至关重要。 \n",
    "\n",
    "*自然语言处理 * 使用自然语言研究计算机与人之间的互动。\n",
    "实际上，使用自然语言处理技术来处理和分析文本（人类自然语言）数据是非常常见的，例如 :numref:`sec_language_model` 中的语言模型和 :numref:`sec_machine_translation` 中的机器翻译模型。 \n",
    "\n",
    "为了理解文本，我们可以从学习它的表述开始。利用来自大型语句的现有文本序列，\n",
    "*自我监督学习 *\n",
    "广泛用于预训文本表示法，例如使用其周围文本的其他部分来预测文本的某些隐藏部分。通过这种方式，模型可以通过监督从 * 大量 * 文本数据中学习，而无需 * 昂贵的 * 标签工作！ \n",
    "\n",
    "正如我们将在本章中看到的那样，当将每个单词或子词视为单个标记时，可以使用 word2vec、GloVE 或在大型语库上嵌入子词模型来预训每个令牌的表示形式。训练前后，每个令牌的表示可以是向量，但是，无论上下文是什么，它都保持不变。例如，“银行” 的矢量表示在 “去银行存一些钱” 和 “去银行坐下” 两个方面都是相同的。因此，更多最近的训练前模型使同一标记的表示适应不同的环境。其中包括 BERT，这是一个基于变压器编码器的更深入的自我监督模型。在本章中，我们将重点介绍如何为文本预先训练此类表示形式，正如 :numref:`fig_nlp-map-pretrain` 中所强调的那样。 \n",
    "\n",
    "![Pretrained text representations can be fed to various deep learning architectures for different downstream natural language processing applications. This chapter focuses on the upstream text representation pretraining.](../img/nlp-map-pretrain.svg)\n",
    ":label:`fig_nlp-map-pretrain`\n",
    "\n",
    "从总体情况来看，:numref:`fig_nlp-map-pretrain` 显示，预训练的文本表示可以被馈送到不同的下游自然语言处理应用程序的各种深度学习架构中。我们将在 :numref:`chap_nlp_app` 中报道它们。\n",
    "\n",
    ":begin_tab:toc\n",
    " - [word2vec](word2vec.ipynb)\n",
    " - [approx-training](approx-training.ipynb)\n",
    " - [word-embedding-dataset](word-embedding-dataset.ipynb)\n",
    " - [word2vec-pretraining](word2vec-pretraining.ipynb)\n",
    " - [glove](glove.ipynb)\n",
    " - [subword-embedding](subword-embedding.ipynb)\n",
    " - [similarity-analogy](similarity-analogy.ipynb)\n",
    " - [bert](bert.ipynb)\n",
    " - [bert-dataset](bert-dataset.ipynb)\n",
    " - [bert-pretraining](bert-pretraining.ipynb)\n",
    ":end_tab:\n"
   ]
  }
 ],
 "metadata": {
  "kernelspec": {
   "display_name": "Python 3",
   "name": "python3"
  },
  "language_info": {
   "name": "python"
  }
 },
 "nbformat": 4,
 "nbformat_minor": 4
}