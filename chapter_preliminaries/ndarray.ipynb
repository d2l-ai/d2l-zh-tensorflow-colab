{
 "cells": [
  {
   "cell_type": "markdown",
   "id": "be34122b",
   "metadata": {
    "origin_pos": 0
   },
   "source": [
    "# 数据操作\n",
    ":label:`sec_ndarray`\n",
    "\n",
    "为了能够完成各种数据操作，我们需要某种方法来存储和操作数据。\n",
    "通常，我们需要做两件重要的事：（1）获取数据；（2）将数据读入计算机后对其进行处理。\n",
    "如果没有某种方法来存储数据，那么获取数据是没有意义的。\n",
    "\n",
    "首先，我们介绍$n$维数组，也称为*张量*（tensor）。\n",
    "使用过Python中NumPy计算包的读者会对本部分很熟悉。\n",
    "无论使用哪个深度学习框架，它的*张量类*（在MXNet中为`ndarray`，\n",
    "在PyTorch和TensorFlow中为`Tensor`）都与Numpy的`ndarray`类似。\n",
    "但深度学习框架又比Numpy的`ndarray`多一些重要功能：\n",
    "首先，GPU很好地支持加速计算，而NumPy仅支持CPU计算；\n",
    "其次，张量类支持自动微分。\n",
    "这些功能使得张量类更适合深度学习。\n",
    "如果没有特殊说明，本书中所说的张量均指的是张量类的实例。\n",
    "\n",
    "## 入门\n",
    "\n",
    "本节的目标是帮助读者了解并运行一些在阅读本书的过程中会用到的基本数值计算工具。\n",
    "如果你很难理解一些数学概念或库函数，请不要担心。\n",
    "后面的章节将通过一些实际的例子来回顾这些内容。\n",
    "如果你已经具有相关经验，想要深入学习数学内容，可以跳过本节。\n"
   ]
  },
  {
   "cell_type": "markdown",
   "id": "888e6674",
   "metadata": {
    "origin_pos": 3,
    "tab": [
     "tensorflow"
    ]
   },
   "source": [
    "首先，我们导入`tensorflow`。\n",
    "由于`tensorflow`名称有点长，我们经常在导入它后使用短别名`tf`。\n"
   ]
  },
  {
   "cell_type": "code",
   "execution_count": 1,
   "id": "f5d088bd",
   "metadata": {
    "execution": {
     "iopub.execute_input": "2023-08-18T07:31:29.113888Z",
     "iopub.status.busy": "2023-08-18T07:31:29.113208Z",
     "iopub.status.idle": "2023-08-18T07:31:31.391985Z",
     "shell.execute_reply": "2023-08-18T07:31:31.390274Z"
    },
    "origin_pos": 6,
    "tab": [
     "tensorflow"
    ]
   },
   "outputs": [],
   "source": [
    "import tensorflow as tf"
   ]
  },
  {
   "cell_type": "markdown",
   "id": "aecb0ab4",
   "metadata": {
    "origin_pos": 8
   },
   "source": [
    "[**张量表示一个由数值组成的数组，这个数组可能有多个维度**]。\n",
    "具有一个轴的张量对应数学上的*向量*（vector）；\n",
    "具有两个轴的张量对应数学上的*矩阵*（matrix）；\n",
    "具有两个轴以上的张量没有特殊的数学名称。\n"
   ]
  },
  {
   "cell_type": "markdown",
   "id": "3e41765c",
   "metadata": {
    "origin_pos": 11,
    "tab": [
     "tensorflow"
    ]
   },
   "source": [
    "首先，我们可以使用 `range` 创建一个行向量 `x`。这个行向量包含以0开始的前12个整数，它们默认创建为整数。也可指定创建类型为浮点数。张量中的每个值都称为张量的 *元素*（element）。例如，张量 `x` 中有 12 个元素。除非额外指定，新的张量将存储在内存中，并采用基于CPU的计算。\n"
   ]
  },
  {
   "cell_type": "code",
   "execution_count": 2,
   "id": "492b87f9",
   "metadata": {
    "execution": {
     "iopub.execute_input": "2023-08-18T07:31:31.399629Z",
     "iopub.status.busy": "2023-08-18T07:31:31.398386Z",
     "iopub.status.idle": "2023-08-18T07:31:33.513935Z",
     "shell.execute_reply": "2023-08-18T07:31:33.513080Z"
    },
    "origin_pos": 14,
    "tab": [
     "tensorflow"
    ]
   },
   "outputs": [
    {
     "data": {
      "text/plain": [
       "<tf.Tensor: shape=(12,), dtype=int32, numpy=array([ 0,  1,  2,  3,  4,  5,  6,  7,  8,  9, 10, 11], dtype=int32)>"
      ]
     },
     "execution_count": 2,
     "metadata": {},
     "output_type": "execute_result"
    }
   ],
   "source": [
    "x = tf.range(12)\n",
    "x"
   ]
  },
  {
   "cell_type": "markdown",
   "id": "3ebd4042",
   "metadata": {
    "origin_pos": 16
   },
   "source": [
    "[**可以通过张量的`shape`属性来访问张量（沿每个轴的长度）的*形状***]\n",
    "(~~和张量中元素的总数~~)。\n"
   ]
  },
  {
   "cell_type": "code",
   "execution_count": 3,
   "id": "b89ffbc9",
   "metadata": {
    "execution": {
     "iopub.execute_input": "2023-08-18T07:31:33.519367Z",
     "iopub.status.busy": "2023-08-18T07:31:33.519072Z",
     "iopub.status.idle": "2023-08-18T07:31:33.524676Z",
     "shell.execute_reply": "2023-08-18T07:31:33.523815Z"
    },
    "origin_pos": 17,
    "tab": [
     "tensorflow"
    ]
   },
   "outputs": [
    {
     "data": {
      "text/plain": [
       "TensorShape([12])"
      ]
     },
     "execution_count": 3,
     "metadata": {},
     "output_type": "execute_result"
    }
   ],
   "source": [
    "x.shape"
   ]
  },
  {
   "cell_type": "markdown",
   "id": "f3ec202d",
   "metadata": {
    "origin_pos": 18
   },
   "source": [
    "如果只想知道张量中元素的总数，即形状的所有元素乘积，可以检查它的大小（size）。\n",
    "因为这里在处理的是一个向量，所以它的`shape`与它的`size`相同。\n"
   ]
  },
  {
   "cell_type": "code",
   "execution_count": 4,
   "id": "f7338da0",
   "metadata": {
    "execution": {
     "iopub.execute_input": "2023-08-18T07:31:33.529160Z",
     "iopub.status.busy": "2023-08-18T07:31:33.528875Z",
     "iopub.status.idle": "2023-08-18T07:31:33.534442Z",
     "shell.execute_reply": "2023-08-18T07:31:33.533663Z"
    },
    "origin_pos": 21,
    "tab": [
     "tensorflow"
    ]
   },
   "outputs": [
    {
     "data": {
      "text/plain": [
       "<tf.Tensor: shape=(), dtype=int32, numpy=12>"
      ]
     },
     "execution_count": 4,
     "metadata": {},
     "output_type": "execute_result"
    }
   ],
   "source": [
    "tf.size(x)"
   ]
  },
  {
   "cell_type": "markdown",
   "id": "3e66c226",
   "metadata": {
    "origin_pos": 23
   },
   "source": [
    "[**要想改变一个张量的形状而不改变元素数量和元素值，可以调用`reshape`函数。**]\n",
    "例如，可以把张量`x`从形状为（12,）的行向量转换为形状为（3,4）的矩阵。\n",
    "这个新的张量包含与转换前相同的值，但是它被看成一个3行4列的矩阵。\n",
    "要重点说明一下，虽然张量的形状发生了改变，但其元素值并没有变。\n",
    "注意，通过改变张量的形状，张量的大小不会改变。\n"
   ]
  },
  {
   "cell_type": "code",
   "execution_count": 5,
   "id": "38395cc6",
   "metadata": {
    "execution": {
     "iopub.execute_input": "2023-08-18T07:31:33.539165Z",
     "iopub.status.busy": "2023-08-18T07:31:33.538883Z",
     "iopub.status.idle": "2023-08-18T07:31:33.546142Z",
     "shell.execute_reply": "2023-08-18T07:31:33.545302Z"
    },
    "origin_pos": 25,
    "tab": [
     "tensorflow"
    ]
   },
   "outputs": [
    {
     "data": {
      "text/plain": [
       "<tf.Tensor: shape=(3, 4), dtype=int32, numpy=\n",
       "array([[ 0,  1,  2,  3],\n",
       "       [ 4,  5,  6,  7],\n",
       "       [ 8,  9, 10, 11]], dtype=int32)>"
      ]
     },
     "execution_count": 5,
     "metadata": {},
     "output_type": "execute_result"
    }
   ],
   "source": [
    "X = tf.reshape(x, (3, 4))\n",
    "X"
   ]
  },
  {
   "cell_type": "markdown",
   "id": "fd08f7f5",
   "metadata": {
    "origin_pos": 27
   },
   "source": [
    "我们不需要通过手动指定每个维度来改变形状。\n",
    "也就是说，如果我们的目标形状是（高度,宽度），\n",
    "那么在知道宽度后，高度会被自动计算得出，不必我们自己做除法。\n",
    "在上面的例子中，为了获得一个3行的矩阵，我们手动指定了它有3行和4列。\n",
    "幸运的是，我们可以通过`-1`来调用此自动计算出维度的功能。\n",
    "即我们可以用`x.reshape(-1,4)`或`x.reshape(3,-1)`来取代`x.reshape(3,4)`。\n",
    "\n",
    "有时，我们希望[**使用全0、全1、其他常量，或者从特定分布中随机采样的数字**]来初始化矩阵。\n",
    "我们可以创建一个形状为（2,3,4）的张量，其中所有元素都设置为0。代码如下：\n"
   ]
  },
  {
   "cell_type": "code",
   "execution_count": 6,
   "id": "adcadd8c",
   "metadata": {
    "execution": {
     "iopub.execute_input": "2023-08-18T07:31:33.550692Z",
     "iopub.status.busy": "2023-08-18T07:31:33.550412Z",
     "iopub.status.idle": "2023-08-18T07:31:33.556734Z",
     "shell.execute_reply": "2023-08-18T07:31:33.555923Z"
    },
    "origin_pos": 30,
    "tab": [
     "tensorflow"
    ]
   },
   "outputs": [
    {
     "data": {
      "text/plain": [
       "<tf.Tensor: shape=(2, 3, 4), dtype=float32, numpy=\n",
       "array([[[0., 0., 0., 0.],\n",
       "        [0., 0., 0., 0.],\n",
       "        [0., 0., 0., 0.]],\n",
       "\n",
       "       [[0., 0., 0., 0.],\n",
       "        [0., 0., 0., 0.],\n",
       "        [0., 0., 0., 0.]]], dtype=float32)>"
      ]
     },
     "execution_count": 6,
     "metadata": {},
     "output_type": "execute_result"
    }
   ],
   "source": [
    "tf.zeros((2, 3, 4))"
   ]
  },
  {
   "cell_type": "markdown",
   "id": "70ddd14c",
   "metadata": {
    "origin_pos": 32
   },
   "source": [
    "同样，我们可以创建一个形状为`(2,3,4)`的张量，其中所有元素都设置为1。代码如下：\n"
   ]
  },
  {
   "cell_type": "code",
   "execution_count": 7,
   "id": "e74edead",
   "metadata": {
    "execution": {
     "iopub.execute_input": "2023-08-18T07:31:33.561258Z",
     "iopub.status.busy": "2023-08-18T07:31:33.560977Z",
     "iopub.status.idle": "2023-08-18T07:31:33.567199Z",
     "shell.execute_reply": "2023-08-18T07:31:33.566396Z"
    },
    "origin_pos": 35,
    "tab": [
     "tensorflow"
    ]
   },
   "outputs": [
    {
     "data": {
      "text/plain": [
       "<tf.Tensor: shape=(2, 3, 4), dtype=float32, numpy=\n",
       "array([[[1., 1., 1., 1.],\n",
       "        [1., 1., 1., 1.],\n",
       "        [1., 1., 1., 1.]],\n",
       "\n",
       "       [[1., 1., 1., 1.],\n",
       "        [1., 1., 1., 1.],\n",
       "        [1., 1., 1., 1.]]], dtype=float32)>"
      ]
     },
     "execution_count": 7,
     "metadata": {},
     "output_type": "execute_result"
    }
   ],
   "source": [
    "tf.ones((2, 3, 4))"
   ]
  },
  {
   "cell_type": "markdown",
   "id": "ddb14e2b",
   "metadata": {
    "origin_pos": 37
   },
   "source": [
    "有时我们想通过从某个特定的概率分布中随机采样来得到张量中每个元素的值。\n",
    "例如，当我们构造数组来作为神经网络中的参数时，我们通常会随机初始化参数的值。\n",
    "以下代码创建一个形状为（3,4）的张量。\n",
    "其中的每个元素都从均值为0、标准差为1的标准高斯分布（正态分布）中随机采样。\n"
   ]
  },
  {
   "cell_type": "code",
   "execution_count": 8,
   "id": "ce6db2a7",
   "metadata": {
    "execution": {
     "iopub.execute_input": "2023-08-18T07:31:33.571616Z",
     "iopub.status.busy": "2023-08-18T07:31:33.571334Z",
     "iopub.status.idle": "2023-08-18T07:31:33.577920Z",
     "shell.execute_reply": "2023-08-18T07:31:33.577079Z"
    },
    "origin_pos": 40,
    "tab": [
     "tensorflow"
    ]
   },
   "outputs": [
    {
     "data": {
      "text/plain": [
       "<tf.Tensor: shape=(3, 4), dtype=float32, numpy=\n",
       "array([[-1.9437447 ,  1.7360141 ,  0.03836465, -0.23741092],\n",
       "       [-0.7939557 , -0.89138025,  0.17875476, -1.8298926 ],\n",
       "       [ 1.0334245 , -0.06715401, -1.0667316 , -1.1286876 ]],\n",
       "      dtype=float32)>"
      ]
     },
     "execution_count": 8,
     "metadata": {},
     "output_type": "execute_result"
    }
   ],
   "source": [
    "tf.random.normal(shape=[3, 4])"
   ]
  },
  {
   "cell_type": "markdown",
   "id": "1301e471",
   "metadata": {
    "origin_pos": 42
   },
   "source": [
    "我们还可以[**通过提供包含数值的Python列表（或嵌套列表），来为所需张量中的每个元素赋予确定值**]。\n",
    "在这里，最外层的列表对应于轴0，内层的列表对应于轴1。\n"
   ]
  },
  {
   "cell_type": "code",
   "execution_count": 9,
   "id": "4bdc690a",
   "metadata": {
    "execution": {
     "iopub.execute_input": "2023-08-18T07:31:33.582320Z",
     "iopub.status.busy": "2023-08-18T07:31:33.582039Z",
     "iopub.status.idle": "2023-08-18T07:31:33.588113Z",
     "shell.execute_reply": "2023-08-18T07:31:33.587276Z"
    },
    "origin_pos": 45,
    "tab": [
     "tensorflow"
    ]
   },
   "outputs": [
    {
     "data": {
      "text/plain": [
       "<tf.Tensor: shape=(3, 4), dtype=int32, numpy=\n",
       "array([[2, 1, 4, 3],\n",
       "       [1, 2, 3, 4],\n",
       "       [4, 3, 2, 1]], dtype=int32)>"
      ]
     },
     "execution_count": 9,
     "metadata": {},
     "output_type": "execute_result"
    }
   ],
   "source": [
    "tf.constant([[2, 1, 4, 3], [1, 2, 3, 4], [4, 3, 2, 1]])"
   ]
  },
  {
   "cell_type": "markdown",
   "id": "b5f63a8d",
   "metadata": {
    "origin_pos": 47
   },
   "source": [
    "## 运算符\n",
    "\n",
    "我们的兴趣不仅限于读取数据和写入数据。\n",
    "我们想在这些数据上执行数学运算，其中最简单且最有用的操作是*按元素*（elementwise）运算。\n",
    "它们将标准标量运算符应用于数组的每个元素。\n",
    "对于将两个数组作为输入的函数，按元素运算将二元运算符应用于两个数组中的每对位置对应的元素。\n",
    "我们可以基于任何从标量到标量的函数来创建按元素函数。\n",
    "\n",
    "在数学表示法中，我们将通过符号$f: \\mathbb{R} \\rightarrow \\mathbb{R}$\n",
    "来表示*一元*标量运算符（只接收一个输入）。\n",
    "这意味着该函数从任何实数（$\\mathbb{R}$）映射到另一个实数。\n",
    "同样，我们通过符号$f: \\mathbb{R}, \\mathbb{R} \\rightarrow \\mathbb{R}$\n",
    "表示*二元*标量运算符，这意味着该函数接收两个输入，并产生一个输出。\n",
    "给定同一形状的任意两个向量$\\mathbf{u}$和$\\mathbf{v}$和二元运算符$f$，\n",
    "我们可以得到向量$\\mathbf{c} = F(\\mathbf{u},\\mathbf{v})$。\n",
    "具体计算方法是$c_i \\gets f(u_i, v_i)$，\n",
    "其中$c_i$、$u_i$和$v_i$分别是向量$\\mathbf{c}$、$\\mathbf{u}$和$\\mathbf{v}$中的元素。\n",
    "在这里，我们通过将标量函数升级为按元素向量运算来生成向量值\n",
    "$F: \\mathbb{R}^d, \\mathbb{R}^d \\rightarrow \\mathbb{R}^d$。\n",
    "\n",
    "对于任意具有相同形状的张量，\n",
    "[**常见的标准算术运算符（`+`、`-`、`*`、`/`和`**`）都可以被升级为按元素运算**]。\n",
    "我们可以在同一形状的任意两个张量上调用按元素操作。\n",
    "在下面的例子中，我们使用逗号来表示一个具有5个元素的元组，其中每个元素都是按元素操作的结果。\n"
   ]
  },
  {
   "cell_type": "code",
   "execution_count": 10,
   "id": "5c1efec0",
   "metadata": {
    "execution": {
     "iopub.execute_input": "2023-08-18T07:31:33.592755Z",
     "iopub.status.busy": "2023-08-18T07:31:33.592468Z",
     "iopub.status.idle": "2023-08-18T07:31:33.600580Z",
     "shell.execute_reply": "2023-08-18T07:31:33.599808Z"
    },
    "origin_pos": 50,
    "tab": [
     "tensorflow"
    ]
   },
   "outputs": [
    {
     "data": {
      "text/plain": [
       "(<tf.Tensor: shape=(4,), dtype=float32, numpy=array([ 3.,  4.,  6., 10.], dtype=float32)>,\n",
       " <tf.Tensor: shape=(4,), dtype=float32, numpy=array([-1.,  0.,  2.,  6.], dtype=float32)>,\n",
       " <tf.Tensor: shape=(4,), dtype=float32, numpy=array([ 2.,  4.,  8., 16.], dtype=float32)>,\n",
       " <tf.Tensor: shape=(4,), dtype=float32, numpy=array([0.5, 1. , 2. , 4. ], dtype=float32)>,\n",
       " <tf.Tensor: shape=(4,), dtype=float32, numpy=array([ 1.,  4., 16., 64.], dtype=float32)>)"
      ]
     },
     "execution_count": 10,
     "metadata": {},
     "output_type": "execute_result"
    }
   ],
   "source": [
    "x = tf.constant([1.0, 2, 4, 8])\n",
    "y = tf.constant([2.0, 2, 2, 2])\n",
    "x + y, x - y, x * y, x / y, x ** y  # **运算符是求幂运算"
   ]
  },
  {
   "cell_type": "markdown",
   "id": "2b3b7917",
   "metadata": {
    "origin_pos": 52
   },
   "source": [
    "(**“按元素”方式可以应用更多的计算**)，包括像求幂这样的一元运算符。\n"
   ]
  },
  {
   "cell_type": "code",
   "execution_count": 11,
   "id": "e71288b0",
   "metadata": {
    "execution": {
     "iopub.execute_input": "2023-08-18T07:31:33.605033Z",
     "iopub.status.busy": "2023-08-18T07:31:33.604754Z",
     "iopub.status.idle": "2023-08-18T07:31:33.610536Z",
     "shell.execute_reply": "2023-08-18T07:31:33.609691Z"
    },
    "origin_pos": 55,
    "tab": [
     "tensorflow"
    ]
   },
   "outputs": [
    {
     "data": {
      "text/plain": [
       "<tf.Tensor: shape=(4,), dtype=float32, numpy=\n",
       "array([2.7182817e+00, 7.3890562e+00, 5.4598148e+01, 2.9809580e+03],\n",
       "      dtype=float32)>"
      ]
     },
     "execution_count": 11,
     "metadata": {},
     "output_type": "execute_result"
    }
   ],
   "source": [
    "tf.exp(x)"
   ]
  },
  {
   "cell_type": "markdown",
   "id": "8aa8de53",
   "metadata": {
    "origin_pos": 57
   },
   "source": [
    "除了按元素计算外，我们还可以执行线性代数运算，包括向量点积和矩阵乘法。\n",
    "我们将在 :numref:`sec_linear-algebra`中解释线性代数的重点内容。\n",
    "\n",
    "[**我们也可以把多个张量*连结*（concatenate）在一起**]，\n",
    "把它们端对端地叠起来形成一个更大的张量。\n",
    "我们只需要提供张量列表，并给出沿哪个轴连结。\n",
    "下面的例子分别演示了当我们沿行（轴-0，形状的第一个元素）\n",
    "和按列（轴-1，形状的第二个元素）连结两个矩阵时，会发生什么情况。\n",
    "我们可以看到，第一个输出张量的轴-0长度（$6$）是两个输入张量轴-0长度的总和（$3 + 3$）；\n",
    "第二个输出张量的轴-1长度（$8$）是两个输入张量轴-1长度的总和（$4 + 4$）。\n"
   ]
  },
  {
   "cell_type": "code",
   "execution_count": 12,
   "id": "c804a4e3",
   "metadata": {
    "execution": {
     "iopub.execute_input": "2023-08-18T07:31:33.614313Z",
     "iopub.status.busy": "2023-08-18T07:31:33.614032Z",
     "iopub.status.idle": "2023-08-18T07:31:33.623245Z",
     "shell.execute_reply": "2023-08-18T07:31:33.622324Z"
    },
    "origin_pos": 60,
    "tab": [
     "tensorflow"
    ]
   },
   "outputs": [
    {
     "data": {
      "text/plain": [
       "(<tf.Tensor: shape=(6, 4), dtype=float32, numpy=\n",
       " array([[ 0.,  1.,  2.,  3.],\n",
       "        [ 4.,  5.,  6.,  7.],\n",
       "        [ 8.,  9., 10., 11.],\n",
       "        [ 2.,  1.,  4.,  3.],\n",
       "        [ 1.,  2.,  3.,  4.],\n",
       "        [ 4.,  3.,  2.,  1.]], dtype=float32)>,\n",
       " <tf.Tensor: shape=(3, 8), dtype=float32, numpy=\n",
       " array([[ 0.,  1.,  2.,  3.,  2.,  1.,  4.,  3.],\n",
       "        [ 4.,  5.,  6.,  7.,  1.,  2.,  3.,  4.],\n",
       "        [ 8.,  9., 10., 11.,  4.,  3.,  2.,  1.]], dtype=float32)>)"
      ]
     },
     "execution_count": 12,
     "metadata": {},
     "output_type": "execute_result"
    }
   ],
   "source": [
    "X = tf.reshape(tf.range(12, dtype=tf.float32), (3, 4))\n",
    "Y = tf.constant([[2.0, 1, 4, 3], [1, 2, 3, 4], [4, 3, 2, 1]])\n",
    "tf.concat([X, Y], axis=0), tf.concat([X, Y], axis=1)"
   ]
  },
  {
   "cell_type": "markdown",
   "id": "c172e8c0",
   "metadata": {
    "origin_pos": 62
   },
   "source": [
    "有时，我们想[**通过*逻辑运算符*构建二元张量**]。\n",
    "以`X == Y`为例：\n",
    "对于每个位置，如果`X`和`Y`在该位置相等，则新张量中相应项的值为1。\n",
    "这意味着逻辑语句`X == Y`在该位置处为真，否则该位置为0。\n"
   ]
  },
  {
   "cell_type": "code",
   "execution_count": 13,
   "id": "e9c9410d",
   "metadata": {
    "execution": {
     "iopub.execute_input": "2023-08-18T07:31:33.626578Z",
     "iopub.status.busy": "2023-08-18T07:31:33.626298Z",
     "iopub.status.idle": "2023-08-18T07:31:33.632748Z",
     "shell.execute_reply": "2023-08-18T07:31:33.631835Z"
    },
    "origin_pos": 63,
    "tab": [
     "tensorflow"
    ]
   },
   "outputs": [
    {
     "data": {
      "text/plain": [
       "<tf.Tensor: shape=(3, 4), dtype=bool, numpy=\n",
       "array([[False,  True, False,  True],\n",
       "       [False, False, False, False],\n",
       "       [False, False, False, False]])>"
      ]
     },
     "execution_count": 13,
     "metadata": {},
     "output_type": "execute_result"
    }
   ],
   "source": [
    "X == Y"
   ]
  },
  {
   "cell_type": "markdown",
   "id": "be5a40a3",
   "metadata": {
    "origin_pos": 64
   },
   "source": [
    "[**对张量中的所有元素进行求和，会产生一个单元素张量。**]\n"
   ]
  },
  {
   "cell_type": "code",
   "execution_count": 14,
   "id": "b3858abc",
   "metadata": {
    "execution": {
     "iopub.execute_input": "2023-08-18T07:31:33.636120Z",
     "iopub.status.busy": "2023-08-18T07:31:33.635841Z",
     "iopub.status.idle": "2023-08-18T07:31:33.642528Z",
     "shell.execute_reply": "2023-08-18T07:31:33.641386Z"
    },
    "origin_pos": 66,
    "tab": [
     "tensorflow"
    ]
   },
   "outputs": [
    {
     "data": {
      "text/plain": [
       "<tf.Tensor: shape=(), dtype=float32, numpy=66.0>"
      ]
     },
     "execution_count": 14,
     "metadata": {},
     "output_type": "execute_result"
    }
   ],
   "source": [
    "tf.reduce_sum(X)"
   ]
  },
  {
   "cell_type": "markdown",
   "id": "be2937f9",
   "metadata": {
    "origin_pos": 67
   },
   "source": [
    "## 广播机制\n",
    ":label:`subsec_broadcasting`\n",
    "\n",
    "在上面的部分中，我们看到了如何在相同形状的两个张量上执行按元素操作。\n",
    "在某些情况下，[**即使形状不同，我们仍然可以通过调用\n",
    "*广播机制*（broadcasting mechanism）来执行按元素操作**]。\n",
    "这种机制的工作方式如下：\n",
    "\n",
    "1. 通过适当复制元素来扩展一个或两个数组，以便在转换之后，两个张量具有相同的形状；\n",
    "2. 对生成的数组执行按元素操作。\n",
    "\n",
    "在大多数情况下，我们将沿着数组中长度为1的轴进行广播，如下例子：\n"
   ]
  },
  {
   "cell_type": "code",
   "execution_count": 15,
   "id": "76ff16af",
   "metadata": {
    "execution": {
     "iopub.execute_input": "2023-08-18T07:31:33.645904Z",
     "iopub.status.busy": "2023-08-18T07:31:33.645628Z",
     "iopub.status.idle": "2023-08-18T07:31:33.653521Z",
     "shell.execute_reply": "2023-08-18T07:31:33.652668Z"
    },
    "origin_pos": 70,
    "tab": [
     "tensorflow"
    ]
   },
   "outputs": [
    {
     "data": {
      "text/plain": [
       "(<tf.Tensor: shape=(3, 1), dtype=int32, numpy=\n",
       " array([[0],\n",
       "        [1],\n",
       "        [2]], dtype=int32)>,\n",
       " <tf.Tensor: shape=(1, 2), dtype=int32, numpy=array([[0, 1]], dtype=int32)>)"
      ]
     },
     "execution_count": 15,
     "metadata": {},
     "output_type": "execute_result"
    }
   ],
   "source": [
    "a = tf.reshape(tf.range(3), (3, 1))\n",
    "b = tf.reshape(tf.range(2), (1, 2))\n",
    "a, b"
   ]
  },
  {
   "cell_type": "markdown",
   "id": "3c0376b1",
   "metadata": {
    "origin_pos": 72
   },
   "source": [
    "由于`a`和`b`分别是$3\\times1$和$1\\times2$矩阵，如果让它们相加，它们的形状不匹配。\n",
    "我们将两个矩阵*广播*为一个更大的$3\\times2$矩阵，如下所示：矩阵`a`将复制列，\n",
    "矩阵`b`将复制行，然后再按元素相加。\n"
   ]
  },
  {
   "cell_type": "code",
   "execution_count": 16,
   "id": "69cfbb78",
   "metadata": {
    "execution": {
     "iopub.execute_input": "2023-08-18T07:31:33.656996Z",
     "iopub.status.busy": "2023-08-18T07:31:33.656716Z",
     "iopub.status.idle": "2023-08-18T07:31:33.663219Z",
     "shell.execute_reply": "2023-08-18T07:31:33.662369Z"
    },
    "origin_pos": 73,
    "tab": [
     "tensorflow"
    ]
   },
   "outputs": [
    {
     "data": {
      "text/plain": [
       "<tf.Tensor: shape=(3, 2), dtype=int32, numpy=\n",
       "array([[0, 1],\n",
       "       [1, 2],\n",
       "       [2, 3]], dtype=int32)>"
      ]
     },
     "execution_count": 16,
     "metadata": {},
     "output_type": "execute_result"
    }
   ],
   "source": [
    "a + b"
   ]
  },
  {
   "cell_type": "markdown",
   "id": "10eeeaf2",
   "metadata": {
    "origin_pos": 74
   },
   "source": [
    "## 索引和切片\n",
    "\n",
    "就像在任何其他Python数组中一样，张量中的元素可以通过索引访问。\n",
    "与任何Python数组一样：第一个元素的索引是0，最后一个元素索引是-1；\n",
    "可以指定范围以包含第一个元素和最后一个之前的元素。\n",
    "\n",
    "如下所示，我们[**可以用`[-1]`选择最后一个元素，可以用`[1:3]`选择第二个和第三个元素**]：\n"
   ]
  },
  {
   "cell_type": "code",
   "execution_count": 17,
   "id": "0e852288",
   "metadata": {
    "execution": {
     "iopub.execute_input": "2023-08-18T07:31:33.666517Z",
     "iopub.status.busy": "2023-08-18T07:31:33.666238Z",
     "iopub.status.idle": "2023-08-18T07:31:33.674184Z",
     "shell.execute_reply": "2023-08-18T07:31:33.673305Z"
    },
    "origin_pos": 75,
    "tab": [
     "tensorflow"
    ]
   },
   "outputs": [
    {
     "data": {
      "text/plain": [
       "(<tf.Tensor: shape=(4,), dtype=float32, numpy=array([ 8.,  9., 10., 11.], dtype=float32)>,\n",
       " <tf.Tensor: shape=(2, 4), dtype=float32, numpy=\n",
       " array([[ 4.,  5.,  6.,  7.],\n",
       "        [ 8.,  9., 10., 11.]], dtype=float32)>)"
      ]
     },
     "execution_count": 17,
     "metadata": {},
     "output_type": "execute_result"
    }
   ],
   "source": [
    "X[-1], X[1:3]"
   ]
  },
  {
   "cell_type": "markdown",
   "id": "334c0fdd",
   "metadata": {
    "origin_pos": 77,
    "tab": [
     "tensorflow"
    ]
   },
   "source": [
    "TensorFlow中的`Tensors`是不可变的，也不能被赋值。\n",
    "TensorFlow中的`Variables`是支持赋值的可变容器。\n",
    "请记住，TensorFlow中的梯度不会通过`Variable`反向传播。\n",
    "\n",
    "除了为整个`Variable`分配一个值之外，我们还可以通过索引来写入`Variable`的元素。\n"
   ]
  },
  {
   "cell_type": "code",
   "execution_count": 18,
   "id": "395b605b",
   "metadata": {
    "execution": {
     "iopub.execute_input": "2023-08-18T07:31:33.677610Z",
     "iopub.status.busy": "2023-08-18T07:31:33.677325Z",
     "iopub.status.idle": "2023-08-18T07:31:33.686091Z",
     "shell.execute_reply": "2023-08-18T07:31:33.685241Z"
    },
    "origin_pos": 79,
    "tab": [
     "tensorflow"
    ]
   },
   "outputs": [
    {
     "data": {
      "text/plain": [
       "<tf.Variable 'Variable:0' shape=(3, 4) dtype=float32, numpy=\n",
       "array([[ 0.,  1.,  2.,  3.],\n",
       "       [ 4.,  5.,  9.,  7.],\n",
       "       [ 8.,  9., 10., 11.]], dtype=float32)>"
      ]
     },
     "execution_count": 18,
     "metadata": {},
     "output_type": "execute_result"
    }
   ],
   "source": [
    "X_var = tf.Variable(X)\n",
    "X_var[1, 2].assign(9)\n",
    "X_var"
   ]
  },
  {
   "cell_type": "markdown",
   "id": "b1f1019e",
   "metadata": {
    "origin_pos": 80
   },
   "source": [
    "如果我们想[**为多个元素赋值相同的值，我们只需要索引所有元素，然后为它们赋值。**]\n",
    "例如，`[0:2, :]`访问第1行和第2行，其中“:”代表沿轴1（列）的所有元素。\n",
    "虽然我们讨论的是矩阵的索引，但这也适用于向量和超过2个维度的张量。\n"
   ]
  },
  {
   "cell_type": "code",
   "execution_count": 19,
   "id": "0b2364a8",
   "metadata": {
    "execution": {
     "iopub.execute_input": "2023-08-18T07:31:33.689369Z",
     "iopub.status.busy": "2023-08-18T07:31:33.689090Z",
     "iopub.status.idle": "2023-08-18T07:31:33.698096Z",
     "shell.execute_reply": "2023-08-18T07:31:33.697245Z"
    },
    "origin_pos": 82,
    "tab": [
     "tensorflow"
    ]
   },
   "outputs": [
    {
     "data": {
      "text/plain": [
       "<tf.Variable 'Variable:0' shape=(3, 4) dtype=float32, numpy=\n",
       "array([[12., 12., 12., 12.],\n",
       "       [12., 12., 12., 12.],\n",
       "       [ 8.,  9., 10., 11.]], dtype=float32)>"
      ]
     },
     "execution_count": 19,
     "metadata": {},
     "output_type": "execute_result"
    }
   ],
   "source": [
    "X_var = tf.Variable(X)\n",
    "X_var[0:2, :].assign(tf.ones(X_var[0:2,:].shape, dtype = tf.float32) * 12)\n",
    "X_var"
   ]
  },
  {
   "cell_type": "markdown",
   "id": "fd4cc0f8",
   "metadata": {
    "origin_pos": 83
   },
   "source": [
    "## 节省内存\n",
    "\n",
    "[**运行一些操作可能会导致为新结果分配内存**]。\n",
    "例如，如果我们用`Y = X + Y`，我们将取消引用`Y`指向的张量，而是指向新分配的内存处的张量。\n",
    "\n",
    "在下面的例子中，我们用Python的`id()`函数演示了这一点，\n",
    "它给我们提供了内存中引用对象的确切地址。\n",
    "运行`Y = Y + X`后，我们会发现`id(Y)`指向另一个位置。\n",
    "这是因为Python首先计算`Y + X`，为结果分配新的内存，然后使`Y`指向内存中的这个新位置。\n"
   ]
  },
  {
   "cell_type": "code",
   "execution_count": 20,
   "id": "cc90f54f",
   "metadata": {
    "execution": {
     "iopub.execute_input": "2023-08-18T07:31:33.701442Z",
     "iopub.status.busy": "2023-08-18T07:31:33.701163Z",
     "iopub.status.idle": "2023-08-18T07:31:33.707602Z",
     "shell.execute_reply": "2023-08-18T07:31:33.706758Z"
    },
    "origin_pos": 84,
    "tab": [
     "tensorflow"
    ]
   },
   "outputs": [
    {
     "data": {
      "text/plain": [
       "False"
      ]
     },
     "execution_count": 20,
     "metadata": {},
     "output_type": "execute_result"
    }
   ],
   "source": [
    "before = id(Y)\n",
    "Y = Y + X\n",
    "id(Y) == before"
   ]
  },
  {
   "cell_type": "markdown",
   "id": "d9148460",
   "metadata": {
    "origin_pos": 85
   },
   "source": [
    "这可能是不可取的，原因有两个：\n",
    "\n",
    "1. 首先，我们不想总是不必要地分配内存。在机器学习中，我们可能有数百兆的参数，并且在一秒内多次更新所有参数。通常情况下，我们希望原地执行这些更新；\n",
    "2. 如果我们不原地更新，其他引用仍然会指向旧的内存位置，这样我们的某些代码可能会无意中引用旧的参数。\n"
   ]
  },
  {
   "cell_type": "markdown",
   "id": "4b2b78c0",
   "metadata": {
    "origin_pos": 87,
    "tab": [
     "tensorflow"
    ]
   },
   "source": [
    "`Variables`是TensorFlow中的可变容器，它们提供了一种存储模型参数的方法。\n",
    "我们可以通过`assign`将一个操作的结果分配给一个`Variable`。\n",
    "为了说明这一点，我们创建了一个与另一个张量`Y`相同的形状的`Z`，\n",
    "使用`zeros_like`来分配一个全$0$的块。\n"
   ]
  },
  {
   "cell_type": "code",
   "execution_count": 21,
   "id": "cf6b39be",
   "metadata": {
    "execution": {
     "iopub.execute_input": "2023-08-18T07:31:33.711055Z",
     "iopub.status.busy": "2023-08-18T07:31:33.710778Z",
     "iopub.status.idle": "2023-08-18T07:31:33.717467Z",
     "shell.execute_reply": "2023-08-18T07:31:33.716589Z"
    },
    "origin_pos": 90,
    "tab": [
     "tensorflow"
    ]
   },
   "outputs": [
    {
     "name": "stdout",
     "output_type": "stream",
     "text": [
      "id(Z): 140005044197312\n",
      "id(Z): 140005044197312\n"
     ]
    }
   ],
   "source": [
    "Z = tf.Variable(tf.zeros_like(Y))\n",
    "print('id(Z):', id(Z))\n",
    "Z.assign(X + Y)\n",
    "print('id(Z):', id(Z))"
   ]
  },
  {
   "cell_type": "markdown",
   "id": "ee39b0e0",
   "metadata": {
    "origin_pos": 93,
    "tab": [
     "tensorflow"
    ]
   },
   "source": [
    "即使你将状态持久存储在`Variable`中，\n",
    "你也可能希望避免为不是模型参数的张量过度分配内存，从而进一步减少内存使用量。\n",
    "\n",
    "由于TensorFlow的`Tensors`是不可变的，而且梯度不会通过`Variable`流动，\n",
    "因此TensorFlow没有提供一种明确的方式来原地运行单个操作。\n",
    "\n",
    "但是，TensorFlow提供了`tf.function`修饰符，\n",
    "将计算封装在TensorFlow图中，该图在运行前经过编译和优化。\n",
    "这允许TensorFlow删除未使用的值，并复用先前分配的且不再需要的值。\n",
    "这样可以最大限度地减少TensorFlow计算的内存开销。\n"
   ]
  },
  {
   "cell_type": "code",
   "execution_count": 22,
   "id": "56c6f4a8",
   "metadata": {
    "execution": {
     "iopub.execute_input": "2023-08-18T07:31:33.720957Z",
     "iopub.status.busy": "2023-08-18T07:31:33.720679Z",
     "iopub.status.idle": "2023-08-18T07:31:33.813366Z",
     "shell.execute_reply": "2023-08-18T07:31:33.812471Z"
    },
    "origin_pos": 95,
    "tab": [
     "tensorflow"
    ]
   },
   "outputs": [
    {
     "data": {
      "text/plain": [
       "<tf.Tensor: shape=(3, 4), dtype=float32, numpy=\n",
       "array([[ 8.,  9., 26., 27.],\n",
       "       [24., 33., 42., 51.],\n",
       "       [56., 57., 58., 59.]], dtype=float32)>"
      ]
     },
     "execution_count": 22,
     "metadata": {},
     "output_type": "execute_result"
    }
   ],
   "source": [
    "@tf.function\n",
    "def computation(X, Y):\n",
    "    Z = tf.zeros_like(Y)  # 这个未使用的值将被删除\n",
    "    A = X + Y  # 当不再需要时，分配将被复用\n",
    "    B = A + Y\n",
    "    C = B + Y\n",
    "    return C + Y\n",
    "\n",
    "computation(X, Y)"
   ]
  },
  {
   "cell_type": "markdown",
   "id": "7133f5d1",
   "metadata": {
    "origin_pos": 96
   },
   "source": [
    "## 转换为其他Python对象\n"
   ]
  },
  {
   "cell_type": "markdown",
   "id": "636d9885",
   "metadata": {
    "origin_pos": 97,
    "tab": [
     "tensorflow"
    ]
   },
   "source": [
    "将深度学习框架定义的张量[**转换为NumPy张量（`ndarray`）**]很容易，反之也同样容易。\n",
    "转换后的结果不共享内存。\n",
    "这个小的不便实际上是非常重要的：当在CPU或GPU上执行操作的时候，\n",
    "如果Python的NumPy包也希望使用相同的内存块执行其他操作，人们不希望停下计算来等它。\n"
   ]
  },
  {
   "cell_type": "code",
   "execution_count": 23,
   "id": "94ff3571",
   "metadata": {
    "execution": {
     "iopub.execute_input": "2023-08-18T07:31:33.817002Z",
     "iopub.status.busy": "2023-08-18T07:31:33.816716Z",
     "iopub.status.idle": "2023-08-18T07:31:33.823763Z",
     "shell.execute_reply": "2023-08-18T07:31:33.822678Z"
    },
    "origin_pos": 101,
    "tab": [
     "tensorflow"
    ]
   },
   "outputs": [
    {
     "data": {
      "text/plain": [
       "(numpy.ndarray, tensorflow.python.framework.ops.EagerTensor)"
      ]
     },
     "execution_count": 23,
     "metadata": {},
     "output_type": "execute_result"
    }
   ],
   "source": [
    "A = X.numpy()\n",
    "B = tf.constant(A)\n",
    "type(A), type(B)"
   ]
  },
  {
   "cell_type": "markdown",
   "id": "79eeb74e",
   "metadata": {
    "origin_pos": 103
   },
   "source": [
    "要(**将大小为1的张量转换为Python标量**)，我们可以调用`item`函数或Python的内置函数。\n"
   ]
  },
  {
   "cell_type": "code",
   "execution_count": 24,
   "id": "c5d29f82",
   "metadata": {
    "execution": {
     "iopub.execute_input": "2023-08-18T07:31:33.827036Z",
     "iopub.status.busy": "2023-08-18T07:31:33.826758Z",
     "iopub.status.idle": "2023-08-18T07:31:33.834034Z",
     "shell.execute_reply": "2023-08-18T07:31:33.833155Z"
    },
    "origin_pos": 106,
    "tab": [
     "tensorflow"
    ]
   },
   "outputs": [
    {
     "data": {
      "text/plain": [
       "(array([3.5], dtype=float32), 3.5, 3.5, 3)"
      ]
     },
     "execution_count": 24,
     "metadata": {},
     "output_type": "execute_result"
    }
   ],
   "source": [
    "a = tf.constant([3.5]).numpy()\n",
    "a, a.item(), float(a), int(a)"
   ]
  },
  {
   "cell_type": "markdown",
   "id": "5af3116d",
   "metadata": {
    "origin_pos": 108
   },
   "source": [
    "## 小结\n",
    "\n",
    "* 深度学习存储和操作数据的主要接口是张量（$n$维数组）。它提供了各种功能，包括基本数学运算、广播、索引、切片、内存节省和转换其他Python对象。\n",
    "\n",
    "## 练习\n",
    "\n",
    "1. 运行本节中的代码。将本节中的条件语句`X == Y`更改为`X < Y`或`X > Y`，然后看看你可以得到什么样的张量。\n",
    "1. 用其他形状（例如三维张量）替换广播机制中按元素操作的两个张量。结果是否与预期相同？\n"
   ]
  },
  {
   "cell_type": "markdown",
   "id": "fa419b17",
   "metadata": {
    "origin_pos": 111,
    "tab": [
     "tensorflow"
    ]
   },
   "source": [
    "[Discussions](https://discuss.d2l.ai/t/1746)\n"
   ]
  }
 ],
 "metadata": {
  "kernelspec": {
   "display_name": "Python 3",
   "name": "python3"
  },
  "language_info": {
   "name": "python"
  },
  "required_libs": []
 },
 "nbformat": 4,
 "nbformat_minor": 5
}