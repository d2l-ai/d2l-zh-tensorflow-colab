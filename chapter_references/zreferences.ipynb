{
 "cells": [
  {
   "cell_type": "markdown",
   "metadata": {
    "origin_pos": 0
   },
   "source": [
    "```eval_rst\n",
    ".. only:: html\n",
    "\n",
    "   参考文献\n",
    "   ==========\n",
    "```\n",
    "\n",
    ":bibliography:`../d2l.bib`\n"
   ]
  }
 ],
 "metadata": {
  "kernelspec": {
   "display_name": "Python 3",
   "name": "python3"
  },
  "language_info": {
   "name": "python"
  }
 },
 "nbformat": 4,
 "nbformat_minor": 4
}